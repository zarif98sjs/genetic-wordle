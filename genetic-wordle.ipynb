{
 "cells": [
  {
   "cell_type": "code",
   "execution_count": 1,
   "metadata": {},
   "outputs": [],
   "source": [
    "import random\n",
    "import pandas as pd\n",
    "import numpy as np"
   ]
  },
  {
   "cell_type": "code",
   "execution_count": 29,
   "metadata": {},
   "outputs": [
    {
     "name": "stdout",
     "output_type": "stream",
     "text": [
      "Length :  12972\n",
      "['awake', 'blush', 'focal', 'evade', 'naval', 'serve']\n"
     ]
    }
   ],
   "source": [
    "def getSourceWords():\n",
    "    with open('source_words.txt', 'r') as f:\n",
    "        return f.read().splitlines()\n",
    "\n",
    "words = getSourceWords()\n",
    "print(\"Length : \",len(words))\n",
    "print(words[4:10])"
   ]
  },
  {
   "cell_type": "code",
   "execution_count": 2,
   "metadata": {},
   "outputs": [],
   "source": [
    "class Word:\n",
    "    def __init__(self, word):\n",
    "        self.word = word\n",
    "\n",
    "    def getFitness(self,target):\n",
    "        if len(self.word) != len(target):\n",
    "            return 0\n",
    "        score = 0\n",
    "        greenScore = 5\n",
    "        yellowScore = 1\n",
    "        for i in range(len(self.word)):\n",
    "            if self.word[i] == target[i]:\n",
    "                score += greenScore\n",
    "            elif self.word[i] in target:\n",
    "                score += yellowScore\n",
    "        return score\n",
    "    def __str__(self):\n",
    "        return self.word"
   ]
  },
  {
   "cell_type": "code",
   "execution_count": 39,
   "metadata": {},
   "outputs": [],
   "source": [
    "def makeGuess():\n",
    "    return Word(random.choice(words))"
   ]
  },
  {
   "cell_type": "code",
   "execution_count": 73,
   "metadata": {},
   "outputs": [
    {
     "name": "stdout",
     "output_type": "stream",
     "text": [
      "Word :  gesse\n",
      "Fitness :  13\n"
     ]
    }
   ],
   "source": [
    "L = []\n",
    "for i in range(10):\n",
    "    guess = makeGuess()\n",
    "    f = guess.getFitness(\"guest\")\n",
    "    L.append((guess,f))\n",
    "\n",
    "## sort by fitness\n",
    "L.sort(key=lambda x: x[1], reverse=True)\n",
    "print(\"Word : \",L[0][0])\n",
    "print(\"Fitness : \",L[0][1])"
   ]
  },
  {
   "cell_type": "code",
   "execution_count": null,
   "metadata": {},
   "outputs": [],
   "source": []
  },
  {
   "cell_type": "code",
   "execution_count": 79,
   "metadata": {},
   "outputs": [],
   "source": []
  },
  {
   "cell_type": "code",
   "execution_count": 53,
   "metadata": {},
   "outputs": [
    {
     "name": "stdout",
     "output_type": "stream",
     "text": [
      "fuels\n"
     ]
    }
   ],
   "source": [
    "def sortPopulation(population):\n",
    "    \n",
    "    return sorted(population, key=lambda x: x.getFitness(\"guest\"), reverse=True)"
   ]
  },
  {
   "cell_type": "code",
   "execution_count": 72,
   "metadata": {},
   "outputs": [],
   "source": [
    "class Wordle:\n",
    "    def __init__(self, target):\n",
    "        self.words = self.getSourceWords()\n",
    "        self.target = target\n",
    "        self.guesses = []\n",
    "        self.bestGuess = None\n",
    "        self.bestFitness = 0\n",
    "        \n",
    "    def getSourceWords(self):\n",
    "        with open('source_words.txt', 'r') as f:\n",
    "            return f.read().splitlines()\n",
    "\n",
    "    def addGuess(self, guess):\n",
    "        self.guesses.append(guess)\n",
    "        fitness = guess.getFitness(self.target)\n",
    "        if fitness > self.bestFitness:\n",
    "            self.bestGuess = guess\n",
    "            self.bestFitness = fitness\n",
    "\n",
    "    def __str__(self):\n",
    "        return self.bestGuess.word\n",
    "\n",
    "    ## genetic algorithm\n",
    "\n",
    "    def getInitialPopulation(self,size):\n",
    "        population = random.sample(self.words,size)\n",
    "        ret = []\n",
    "        for i in range(len(population)):\n",
    "            ret.append(Word(population[i]))\n",
    "        return ret\n",
    "\n",
    "    def sortPopulation(self, population):\n",
    "        ret = []\n",
    "        for i in range(len(population)):\n",
    "            guess = population[i]\n",
    "            ret.append((guess, guess.getFitness(self.target)))\n",
    "        return sorted(ret, key=lambda x: x[1], reverse=True)\n",
    "\n",
    "    def selection(self, sortedPopulation,eliteSize):\n",
    "        selectionResults = []\n",
    "        df = pd.DataFrame(np.array(sortedPopulation), columns=[\"Guess\",\"Fitness\"])\n",
    "        df['cumulative_sum'] = df.Fitness.cumsum()\n",
    "        df['cumulative_percentage'] = 100*df.cumulative_sum/df.Fitness.sum()\n",
    "        # print(df)\n",
    "        # print(\"----\")\n",
    "        \n",
    "        ## ensure that the elits always get selected\n",
    "        for i in range(0,eliteSize):\n",
    "            selectionResults.append(sortedPopulation[i])\n",
    "\n",
    "        # for i in range(len(selectionResults)):\n",
    "        #     print(\"Selection : \",selectionResults[i][0], \" , fitness : \",selectionResults[i][1])\n",
    "        # print(\"----\")\n",
    "        \n",
    "        ## randomly pick the others, make it the same size as initial population\n",
    "        for i in range(0, len(sortedPopulation) - eliteSize):\n",
    "            pick = random.uniform(0,100)\n",
    "            for idx, row in df.iterrows():\n",
    "                if row.cumulative_percentage >= pick:\n",
    "                    selectionResults.append(sortedPopulation[idx])\n",
    "                    break\n",
    "        \n",
    "        # for i in range(len(selectionResults)):\n",
    "        #     print(\"Selection : \",selectionResults[i][0], \" , fitness : \",selectionResults[i][1])\n",
    "\n",
    "        return selectionResults\n",
    "\n",
    "    def crossover(self, parent1, parent2):\n",
    "        child1 = Word(parent1.word[:int(len(parent1.word)/2)] + parent2.word[int(len(parent2.word)/2):])\n",
    "        child2 = Word(parent2.word[:int(len(parent2.word)/2)] + parent1.word[int(len(parent1.word)/2):])\n",
    "        return child1, child2\n",
    "\n",
    "    def breed(self,selected,eliteSize):\n",
    "        length = len(selected) - eliteSize\n",
    "\n",
    "        newPopulation = []\n",
    "        for i in range(eliteSize):\n",
    "            newPopulation.append(selected[i][0])\n",
    "\n",
    "        for i in range(int(length/2)):\n",
    "            parent1 = selected[i][0]\n",
    "            parent2 = selected[(i+1)%length][0]\n",
    "            child1,child2 = self.crossover(parent1, parent2)\n",
    "            newPopulation.append(child1)\n",
    "            newPopulation.append(child2)\n",
    "        return newPopulation\n",
    "\n",
    "    def mutate(self,population,mutationRate):\n",
    "        for i in range(len(population)):\n",
    "            if random.uniform(0,1) < mutationRate:\n",
    "                ## change a random letter to a-z\n",
    "                index = random.randint(0,len(population[i].word)-1)\n",
    "                population[i].word = population[i].word[:index] + chr(random.randint(97,122)) + population[i].word[index+1:]\n",
    "        return population\n",
    "\n",
    "    def solve(self,initSize = 500,eliteSize = 0,generations=50,mutationRate=0.2): \n",
    "        population = self.getInitialPopulation(initSize)\n",
    "        sortedPopulation = self.sortPopulation(population)\n",
    "        print(\"Initial Best Guess : \",sortedPopulation[0][0], \" , fitness : \",sortedPopulation[0][1])\n",
    " \n",
    "        for g in range(generations):\n",
    "            print(\"Generation : \",g)\n",
    "            selected = self.selection(sortedPopulation,eliteSize)\n",
    "            newPopulation = self.breed(selected,eliteSize)\n",
    "            print(\"New population size : \",len(newPopulation))\n",
    "            newPopulation = self.mutate(newPopulation,mutationRate)\n",
    "            sortedPopulation = self.sortPopulation(newPopulation)\n",
    "            if sortedPopulation[0][0].word == self.target:\n",
    "                print(\"Found the target : \",sortedPopulation[0][0], \"in generation : \",g+1)\n",
    "                break\n",
    "            print(\"Best Guess : \",sortedPopulation[0][0], \" , fitness : \",sortedPopulation[0][1])\n"
   ]
  },
  {
   "cell_type": "code",
   "execution_count": 73,
   "metadata": {},
   "outputs": [
    {
     "name": "stdout",
     "output_type": "stream",
     "text": [
      "Initial Best Guess :  crews  , fitness :  6\n",
      "Generation :  0\n",
      "New population size :  10\n",
      "Found the target :  guest in generation :  1\n"
     ]
    }
   ],
   "source": [
    "wordle = Wordle(\"guest\")\n",
    "solve = wordle.solve()"
   ]
  },
  {
   "cell_type": "code",
   "execution_count": null,
   "metadata": {},
   "outputs": [],
   "source": [
    "def crossover(parent1, parent2):\n",
    "    child1 = Word(parent1.word[:int(len(parent1.word)/2)] + parent2.word[int(len(parent2.word)/2):])\n",
    "    child2 = Word(parent2.word[:int(len(parent2.word)/2)] + parent1.word[int(len(parent1.word)/2):])\n",
    "    return child1, child2"
   ]
  },
  {
   "cell_type": "code",
   "execution_count": 23,
   "metadata": {},
   "outputs": [
    {
     "name": "stdout",
     "output_type": "stream",
     "text": [
      "guedef\n",
      "abcsti\n"
     ]
    }
   ],
   "source": [
    "c1,c2 = crossover(Word(\"guesti\"), Word(\"abcdef\"))\n",
    "print(c1)\n",
    "print(c2)"
   ]
  },
  {
   "cell_type": "code",
   "execution_count": 53,
   "metadata": {},
   "outputs": [
    {
     "name": "stdout",
     "output_type": "stream",
     "text": [
      "mello\n"
     ]
    }
   ],
   "source": [
    "def mutate(word,mutationRate=1):\n",
    "    if random.uniform(0,1) < mutationRate:\n",
    "        ## change a random letter to a-z\n",
    "        index = random.randint(0,len(word)-1)\n",
    "        word = word[:index] + chr(random.randint(97,122)) + word[index+1:]\n",
    "    print(word)\n",
    "\n",
    "mutate(\"hello\")"
   ]
  },
  {
   "cell_type": "code",
   "execution_count": null,
   "metadata": {},
   "outputs": [],
   "source": []
  },
  {
   "cell_type": "code",
   "execution_count": null,
   "metadata": {},
   "outputs": [],
   "source": []
  }
 ],
 "metadata": {
  "interpreter": {
   "hash": "65a61b13e1a08f1c1c7be56a3042f21c65dc858160ea14f159b3013af6d66570"
  },
  "kernelspec": {
   "display_name": "Python 3.10.2 64-bit",
   "language": "python",
   "name": "python3"
  },
  "language_info": {
   "codemirror_mode": {
    "name": "ipython",
    "version": 3
   },
   "file_extension": ".py",
   "mimetype": "text/x-python",
   "name": "python",
   "nbconvert_exporter": "python",
   "pygments_lexer": "ipython3",
   "version": "3.8.3"
  },
  "orig_nbformat": 4
 },
 "nbformat": 4,
 "nbformat_minor": 2
}
